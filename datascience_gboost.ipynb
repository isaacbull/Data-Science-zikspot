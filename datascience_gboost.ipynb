{
  "nbformat": 4,
  "nbformat_minor": 0,
  "metadata": {
    "colab": {
      "provenance": [],
      "authorship_tag": "ABX9TyNKOXI8B7VCJ2clU7J0mVN9",
      "include_colab_link": true
    },
    "kernelspec": {
      "name": "python3",
      "display_name": "Python 3"
    },
    "language_info": {
      "name": "python"
    }
  },
  "cells": [
    {
      "cell_type": "markdown",
      "metadata": {
        "id": "view-in-github",
        "colab_type": "text"
      },
      "source": [
        "<a href=\"https://colab.research.google.com/github/isaacbull/Data-Science-zikspot/blob/main/datascience_gboost.ipynb\" target=\"_parent\"><img src=\"https://colab.research.google.com/assets/colab-badge.svg\" alt=\"Open In Colab\"/></a>"
      ]
    },
    {
      "cell_type": "markdown",
      "source": [
        "## Introduction\n",
        "This Jupyter Notebook explores the application of Gradient Boosting Regression for predictive modeling, with a focus on understanding and visualizing feature importance.\n",
        "\n",
        "We begin by illustrating a custom function for generating polynomial features, followed by demonstrating the same functionality using scikit-learn's PolynomialFeatures.\n",
        "\n",
        "The core of the notebook involves building a Gradient Boosting Regressor model using the diabetes dataset from scikit-learn. We train the model, evaluate its performance using Mean Squared Error, and then delve into analyzing the importance of different features in driving the model's predictions.\n",
        "\n",
        "Finally, we utilize Matplotlib to create a clear and informative visualization of feature importances, allowing for easy interpretation and understanding of the model's behavior.\n",
        "\n",
        "This notebook serves as a practical guide to implementing and interpreting Gradient Boosting Regression models, emphasizing the importance of feature analysis in gaining insights from data."
      ],
      "metadata": {
        "id": "yN2vE_Eej9aD"
      }
    },
    {
      "cell_type": "code",
      "execution_count": 1,
      "metadata": {
        "id": "nbWADUPJJQe3"
      },
      "outputs": [],
      "source": [
        "import numpy as np\n",
        "\n",
        "def polynomial_features(X, degree):\n",
        "    \"\"\"\n",
        "    Creates polynomial features from a given feature matrix.\n",
        "\n",
        "    Args:\n",
        "        X: The input feature matrix.\n",
        "        degree: The maximum degree of the polynomial features.\n",
        "\n",
        "    Returns:\n",
        "        The matrix of polynomial features.\n",
        "    \"\"\"\n",
        "\n",
        "    n_samples, n_features = X.shape\n",
        "    X_poly = np.zeros((n_samples, n_features * degree))\n",
        "\n",
        "    for i in range(n_samples):\n",
        "        for j in range(n_features):\n",
        "            for d in range(1, degree + 1):\n",
        "                X_poly[i, j * degree + d - 1] = X[i, j] ** d\n",
        "\n",
        "    return X_poly"
      ]
    },
    {
      "cell_type": "code",
      "source": [
        "np.zeros??"
      ],
      "metadata": {
        "id": "R8CfqJWrJy7E"
      },
      "execution_count": 2,
      "outputs": []
    },
    {
      "cell_type": "code",
      "source": [
        "np.zeros((2, 1)).shape"
      ],
      "metadata": {
        "colab": {
          "base_uri": "https://localhost:8080/"
        },
        "id": "T0MKKp-1J-KP",
        "outputId": "560b5fd4-e7de-45bf-fe88-2ceeb148166a"
      },
      "execution_count": 5,
      "outputs": [
        {
          "output_type": "execute_result",
          "data": {
            "text/plain": [
              "(2, 1)"
            ]
          },
          "metadata": {},
          "execution_count": 5
        }
      ]
    },
    {
      "cell_type": "code",
      "source": [
        "range??"
      ],
      "metadata": {
        "id": "1OscyRWUKSBD"
      },
      "execution_count": 6,
      "outputs": []
    },
    {
      "cell_type": "code",
      "source": [
        "X = np.array([[1], [2], [3]])\n",
        "degree = 2\n",
        "print(f\"first x: \\n {X}\\n\")\n",
        "print(f\"the shape of X: {X.shape}\\n\")\n",
        "\n",
        "X_poly = polynomial_features(X, degree)\n",
        "print(f\"Now X_poly: \\n {X_poly}\\n\")\n",
        "print(f\"X_poly's Shape: {X_poly.shape}\")\n",
        "\n"
      ],
      "metadata": {
        "colab": {
          "base_uri": "https://localhost:8080/"
        },
        "id": "BbNM--oEK4j3",
        "outputId": "71defc52-a588-489e-f067-a3e4e9ccff00"
      },
      "execution_count": 12,
      "outputs": [
        {
          "output_type": "stream",
          "name": "stdout",
          "text": [
            "first x: \n",
            " [[1]\n",
            " [2]\n",
            " [3]]\n",
            "\n",
            "the shape of X: (3, 1)\n",
            "\n",
            "Now X_poly: \n",
            " [[1. 1.]\n",
            " [2. 4.]\n",
            " [3. 9.]]\n",
            "\n",
            "X_poly's Shape: (3, 2)\n"
          ]
        }
      ]
    },
    {
      "cell_type": "code",
      "source": [
        "from sklearn.preprocessing import PolynomialFeatures\n",
        "\n",
        "poly = PolynomialFeatures(degree=2, interaction_only=True)\n",
        "X_poly = poly.fit_transform(X)"
      ],
      "metadata": {
        "id": "Fxtga6xgMAJD"
      },
      "execution_count": null,
      "outputs": []
    },
    {
      "cell_type": "code",
      "source": [
        "# prompt: use sklearn models and dataset to build a gradientboosting regression model and print and plot feature_importance..\n",
        "\n",
        "import numpy as np\n",
        "import matplotlib.pyplot as plt\n",
        "from sklearn.datasets import load_diabetes\n",
        "from sklearn.model_selection import train_test_split\n",
        "from sklearn.ensemble import GradientBoostingRegressor\n",
        "from sklearn.metrics import mean_squared_error\n",
        "\n",
        "# Load the diabetes dataset\n",
        "diabetes = load_diabetes()\n",
        "X, y = diabetes.data, diabetes.target\n",
        "\n",
        "# Split data into training and testing sets\n",
        "X_train, X_test, y_train, y_test = train_test_split(X, y, test_size=0.2, random_state=42)\n",
        "\n",
        "# Initialize and train the GradientBoostingRegressor\n",
        "gbr = GradientBoostingRegressor(n_estimators=100, learning_rate=0.1, random_state=42)\n",
        "gbr.fit(X_train, y_train)\n",
        "\n",
        "# Make predictions on the test set\n",
        "y_pred = gbr.predict(X_test)\n",
        "\n",
        "# Evaluate the model\n",
        "mse = mean_squared_error(y_test, y_pred)\n",
        "print(f\"Mean Squared Error: {mse}\")\n",
        "\n",
        "# Print feature importances\n",
        "feature_importances = gbr.feature_importances_\n",
        "print(\"Feature Importances:\")\n",
        "for i, importance in enumerate(feature_importances):\n",
        "    print(f\"Feature {i}: {importance}\")\n",
        "\n",
        "# Plot feature importances\n",
        "plt.figure(figsize=(10, 6))\n",
        "plt.bar(range(X.shape[1]), feature_importances)\n",
        "plt.xlabel(\"Feature Index\")\n",
        "plt.ylabel(\"Feature Importance\")\n",
        "plt.title(\"Gradient Boosting Regressor Feature Importances\")\n",
        "plt.show()"
      ],
      "metadata": {
        "colab": {
          "base_uri": "https://localhost:8080/",
          "height": 726
        },
        "id": "ed7lRRiESpaI",
        "outputId": "b1746491-db1a-414b-cc7e-85723b463817"
      },
      "execution_count": 14,
      "outputs": [
        {
          "output_type": "stream",
          "name": "stdout",
          "text": [
            "Mean Squared Error: 2898.4366729135227\n",
            "Feature Importances:\n",
            "Feature 0: 0.049612188674545706\n",
            "Feature 1: 0.012478098996102931\n",
            "Feature 2: 0.3931012506899421\n",
            "Feature 3: 0.08297928741962607\n",
            "Feature 4: 0.03889154250260649\n",
            "Feature 5: 0.06148978682724272\n",
            "Feature 6: 0.0365877014372392\n",
            "Feature 7: 0.028596169865750726\n",
            "Feature 8: 0.24958299358888064\n",
            "Feature 9: 0.0466809799980633\n"
          ]
        },
        {
          "output_type": "display_data",
          "data": {
            "text/plain": [
              "<Figure size 1000x600 with 1 Axes>"
            ],
            "image/png": "[encoded data removed]"
          },
          "metadata": {}
        }
      ]
    },
    {
      "cell_type": "code",
      "source": [],
      "metadata": {
        "id": "iCi9mvFTSjx8"
      },
      "execution_count": null,
      "outputs": []
    }
  ]
}